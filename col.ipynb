{
 "metadata": {
  "language_info": {
   "codemirror_mode": {
    "name": "ipython",
    "version": 3
   },
   "file_extension": ".py",
   "mimetype": "text/x-python",
   "name": "python",
   "nbconvert_exporter": "python",
   "pygments_lexer": "ipython3",
   "version": "3.8.5-final"
  },
  "orig_nbformat": 2,
  "kernelspec": {
   "name": "Python 3.8.5 64-bit ('base': conda)",
   "display_name": "Python 3.8.5 64-bit ('base': conda)",
   "metadata": {
    "interpreter": {
     "hash": "78dc9d68f0bce9e73a7f1d98bbfd57de110050fa9716eff9d13536aa3e82104b"
    }
   }
  }
 },
 "nbformat": 4,
 "nbformat_minor": 2,
 "cells": [
  {
   "cell_type": "code",
   "execution_count": 1,
   "metadata": {},
   "outputs": [],
   "source": [
    "import pandas as pd"
   ]
  },
  {
   "cell_type": "code",
   "execution_count": 2,
   "metadata": {},
   "outputs": [
    {
     "output_type": "execute_result",
     "data": {
      "text/plain": "   Unnamed: 0  Unnamed: 0.1        player_name team_abbreviation   age  \\\n0           0             0      Dennis Rodman               CHI  36.0   \n1           1             1  Dwayne Schintzius               LAC  28.0   \n2           2             2       Earl Cureton               TOR  39.0   \n3           3             3        Ed O&#39;Bannon               DAL  24.0   \n4           4             4        Ed Pinckney               MIA  34.0   \n\n   player_height  player_weight                      college country  \\\n0         198.12      99.790240  Southeastern Oklahoma State     USA   \n1         215.90     117.933920                      Florida     USA   \n2         205.74      95.254320                Detroit Mercy     USA   \n3         203.20     100.697424                         UCLA     USA   \n4         205.74     108.862080                    Villanova     USA   \n\n  draft_year  ...   reb  ast  net_rating  oreb_pct  dreb_pct  usg_pct  ts_pct  \\\n0       1986  ...  16.1  3.1        16.1     0.186     0.323    0.100   0.479   \n1       1990  ...   1.5  0.3        12.3     0.078     0.151    0.175   0.430   \n2       1979  ...   1.0  0.4        -2.1     0.105     0.102    0.103   0.376   \n3       1995  ...   2.3  0.6        -8.7     0.060     0.149    0.167   0.399   \n4       1985  ...   2.4  0.2       -11.2     0.109     0.179    0.127   0.611   \n\n   ast_pct   season  potential_player  \n0    0.113  1996-97                 0  \n1    0.048  1996-97                 0  \n2    0.148  1996-97                 0  \n3    0.077  1996-97                 0  \n4    0.040  1996-97                 0  \n\n[5 rows x 24 columns]",
      "text/html": "<div>\n<style scoped>\n    .dataframe tbody tr th:only-of-type {\n        vertical-align: middle;\n    }\n\n    .dataframe tbody tr th {\n        vertical-align: top;\n    }\n\n    .dataframe thead th {\n        text-align: right;\n    }\n</style>\n<table border=\"1\" class=\"dataframe\">\n  <thead>\n    <tr style=\"text-align: right;\">\n      <th></th>\n      <th>Unnamed: 0</th>\n      <th>Unnamed: 0.1</th>\n      <th>player_name</th>\n      <th>team_abbreviation</th>\n      <th>age</th>\n      <th>player_height</th>\n      <th>player_weight</th>\n      <th>college</th>\n      <th>country</th>\n      <th>draft_year</th>\n      <th>...</th>\n      <th>reb</th>\n      <th>ast</th>\n      <th>net_rating</th>\n      <th>oreb_pct</th>\n      <th>dreb_pct</th>\n      <th>usg_pct</th>\n      <th>ts_pct</th>\n      <th>ast_pct</th>\n      <th>season</th>\n      <th>potential_player</th>\n    </tr>\n  </thead>\n  <tbody>\n    <tr>\n      <th>0</th>\n      <td>0</td>\n      <td>0</td>\n      <td>Dennis Rodman</td>\n      <td>CHI</td>\n      <td>36.0</td>\n      <td>198.12</td>\n      <td>99.790240</td>\n      <td>Southeastern Oklahoma State</td>\n      <td>USA</td>\n      <td>1986</td>\n      <td>...</td>\n      <td>16.1</td>\n      <td>3.1</td>\n      <td>16.1</td>\n      <td>0.186</td>\n      <td>0.323</td>\n      <td>0.100</td>\n      <td>0.479</td>\n      <td>0.113</td>\n      <td>1996-97</td>\n      <td>0</td>\n    </tr>\n    <tr>\n      <th>1</th>\n      <td>1</td>\n      <td>1</td>\n      <td>Dwayne Schintzius</td>\n      <td>LAC</td>\n      <td>28.0</td>\n      <td>215.90</td>\n      <td>117.933920</td>\n      <td>Florida</td>\n      <td>USA</td>\n      <td>1990</td>\n      <td>...</td>\n      <td>1.5</td>\n      <td>0.3</td>\n      <td>12.3</td>\n      <td>0.078</td>\n      <td>0.151</td>\n      <td>0.175</td>\n      <td>0.430</td>\n      <td>0.048</td>\n      <td>1996-97</td>\n      <td>0</td>\n    </tr>\n    <tr>\n      <th>2</th>\n      <td>2</td>\n      <td>2</td>\n      <td>Earl Cureton</td>\n      <td>TOR</td>\n      <td>39.0</td>\n      <td>205.74</td>\n      <td>95.254320</td>\n      <td>Detroit Mercy</td>\n      <td>USA</td>\n      <td>1979</td>\n      <td>...</td>\n      <td>1.0</td>\n      <td>0.4</td>\n      <td>-2.1</td>\n      <td>0.105</td>\n      <td>0.102</td>\n      <td>0.103</td>\n      <td>0.376</td>\n      <td>0.148</td>\n      <td>1996-97</td>\n      <td>0</td>\n    </tr>\n    <tr>\n      <th>3</th>\n      <td>3</td>\n      <td>3</td>\n      <td>Ed O'Bannon</td>\n      <td>DAL</td>\n      <td>24.0</td>\n      <td>203.20</td>\n      <td>100.697424</td>\n      <td>UCLA</td>\n      <td>USA</td>\n      <td>1995</td>\n      <td>...</td>\n      <td>2.3</td>\n      <td>0.6</td>\n      <td>-8.7</td>\n      <td>0.060</td>\n      <td>0.149</td>\n      <td>0.167</td>\n      <td>0.399</td>\n      <td>0.077</td>\n      <td>1996-97</td>\n      <td>0</td>\n    </tr>\n    <tr>\n      <th>4</th>\n      <td>4</td>\n      <td>4</td>\n      <td>Ed Pinckney</td>\n      <td>MIA</td>\n      <td>34.0</td>\n      <td>205.74</td>\n      <td>108.862080</td>\n      <td>Villanova</td>\n      <td>USA</td>\n      <td>1985</td>\n      <td>...</td>\n      <td>2.4</td>\n      <td>0.2</td>\n      <td>-11.2</td>\n      <td>0.109</td>\n      <td>0.179</td>\n      <td>0.127</td>\n      <td>0.611</td>\n      <td>0.040</td>\n      <td>1996-97</td>\n      <td>0</td>\n    </tr>\n  </tbody>\n</table>\n<p>5 rows × 24 columns</p>\n</div>"
     },
     "metadata": {},
     "execution_count": 2
    }
   ],
   "source": [
    "col=pd.read_csv('nba_players.csv')\n",
    "col.head()"
   ]
  },
  {
   "cell_type": "code",
   "execution_count": 4,
   "metadata": {
    "tags": []
   },
   "outputs": [
    {
     "output_type": "stream",
     "name": "stdout",
     "text": "&lt;class &#39;pandas.core.frame.DataFrame&#39;&gt;\nRangeIndex: 11145 entries, 0 to 11144\nData columns (total 24 columns):\n #   Column             Non-Null Count  Dtype  \n---  ------             --------------  -----  \n 0   Unnamed: 0         11145 non-null  int64  \n 1   Unnamed: 0.1       11145 non-null  int64  \n 2   player_name        11145 non-null  object \n 3   team_abbreviation  11145 non-null  object \n 4   age                11145 non-null  float64\n 5   player_height      11145 non-null  float64\n 6   player_weight      11145 non-null  float64\n 7   college            11145 non-null  object \n 8   country            11145 non-null  object \n 9   draft_year         11145 non-null  object \n 10  draft_round        11145 non-null  object \n 11  draft_number       11145 non-null  object \n 12  gp                 11145 non-null  int64  \n 13  pts                11145 non-null  float64\n 14  reb                11145 non-null  float64\n 15  ast                11145 non-null  float64\n 16  net_rating         11145 non-null  float64\n 17  oreb_pct           11145 non-null  float64\n 18  dreb_pct           11145 non-null  float64\n 19  usg_pct            11145 non-null  float64\n 20  ts_pct             11145 non-null  float64\n 21  ast_pct            11145 non-null  float64\n 22  season             11145 non-null  object \n 23  potential_player   11145 non-null  int64  \ndtypes: float64(12), int64(4), object(8)\nmemory usage: 2.0+ MB\n"
    }
   ],
   "source": [
    "col.info()"
   ]
  },
  {
   "cell_type": "code",
   "execution_count": null,
   "metadata": {},
   "outputs": [],
   "source": []
  }
 ]
}